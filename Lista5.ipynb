{
  "nbformat": 4,
  "nbformat_minor": 0,
  "metadata": {
    "colab": {
      "name": "Lista5",
      "provenance": [],
      "authorship_tag": "ABX9TyOEWl5LINB8P7K3flfIjk93",
      "include_colab_link": true
    },
    "kernelspec": {
      "name": "python3",
      "display_name": "Python 3"
    },
    "language_info": {
      "name": "python"
    }
  },
  "cells": [
    {
      "cell_type": "markdown",
      "metadata": {
        "id": "view-in-github",
        "colab_type": "text"
      },
      "source": [
        "<a href=\"https://colab.research.google.com/github/Milchelle/Probabilidade_Estatistica/blob/main/Lista5.ipynb\" target=\"_parent\"><img src=\"https://colab.research.google.com/assets/colab-badge.svg\" alt=\"Open In Colab\"/></a>"
      ]
    },
    {
      "cell_type": "code",
      "metadata": {
        "id": "_H3XRqE4psOh"
      },
      "source": [
        ""
      ],
      "execution_count": null,
      "outputs": []
    },
    {
      "cell_type": "code",
      "metadata": {
        "id": "gfSyTb6-xB1_"
      },
      "source": [
        "# Nome: Michelle Lucena Brito\n",
        "# Lista 5\n",
        "# Probabilidade e Estatística\n",
        "\n",
        "# QUESTÃO 01\n",
        "'''import statistics\n",
        "x = [10, 13, 17, 9, 8, 11, 13, 7]\n",
        "Med_Simples = statistics.mean(x) # Calcula a média aritmética simples\n",
        "print('A MÉDIA ARITMÉTICA SIMPLES É:', Med_Simples) # Resposta letra A\n",
        "Med_Harmonica = statistics.harmonic_mean(x) # Calcula a média harmônica\n",
        "print('A MÉDIA HARMÔNICA É:', round(Med_Harmonica,2)) # Resposta letra B\n",
        "Moda = statistics.mode(x) # Calcula a moda\n",
        "print('A MODA É:', Moda) # Resposta letra D\n",
        "Variancia = statistics.variance(x) # Calcula a variância\n",
        "print('A VARIÂNCIA É:', round(Variancia,2)) # Resposta letra E\n",
        "Desv_Pad = statistics.stdev(x) # Calcula desvio padrão\n",
        "print('O DESVIO PADRÃO É:', round(Desv_Pad,2)) # Resposta Letra F\n",
        "\n",
        "# Letra C\n",
        "from scipy.stats.mstats import gmean\n",
        "x = [10, 13, 17, 9, 8, 11, 13, 7]\n",
        "Med_Geom = gmean(x) # Calcula a média geométrica \n",
        "print('A MÉDIA GEOMÉTRICA É:', round(Med_Geom,2)) # Resposta letra C'''\n",
        "\n",
        "# QUESTÃO 02\n",
        "'''import statistics\n",
        "x = [67, 75, 63, 72, 77, 78, 81, 77, 80]\n",
        "Med_Simples = statistics.mean(x) # Calcula a média aritmética simples\n",
        "print('A MÉDIA ARITMÉTICA SIMPLES É:', round(Med_Simples,2)) # Resposta letra A\n",
        "Med_Harmonica = statistics.harmonic_mean(x) # Calcula a média harmônica\n",
        "print('A MÉDIA HARMÔNICA É:', round(Med_Harmonica,2)) # Resposta letra A\n",
        "Moda = statistics.mode(x) # Calcula a moda\n",
        "print('A MODA É:', Moda) # Resposta letra B\n",
        "Mediana = statistics.median(x) # Calcula Mediana\n",
        "print('A MEDIANA É:', Mediana) # Resposta letra C\n",
        "Variancia = statistics.variance(x) # Calcula a variância\n",
        "print('A VARIÂNCIA É:', round(Variancia,2)) # Resposta letra D\n",
        "Desv_Pad = statistics.stdev(x) # Calcula desvio padrão\n",
        "print('O DESVIO PADRÃO É:', round(Desv_Pad,2)) # Resposta Letra E\n",
        "\n",
        "# CONTINUAÇÃO LETRA A\n",
        "from scipy.stats.mstats import gmean\n",
        "x = [67, 75, 63, 72, 77, 78, 81, 77, 80]\n",
        "Med_Geom = gmean(x) # Calcula a média geométrica \n",
        "print('A MÉDIA GEOMÉTRICA É:', round(Med_Geom,2)) # Resposta letra A'''\n",
        "\n",
        "# QUESTÃO 03\n",
        "'''import statistics\n",
        "x = [4.0, 4.5, 5.0, 5.0, 5.0, 5.5, 6.0, 6.0, 6.5, 6.5, 6.5, 6.5, 7.0, 7.0, 7.0, 7.0, 7.0, 7.0, 7.5, 8.5, 9.0, 9.0, 9.0, 9.5, 10.0, 10.0, 10.5, 10.5, 11.0, 12.0, 12.5, 13.0, 13.0]\n",
        "Med = statistics.mean(x) # Calcula média \n",
        "Desv_Pad = statistics.stdev(x) # Calcula desvio padrão\n",
        "CV = (Med/Desv_Pad)*100 # Divide média por desvio padrão e multiplica por 100, o resultado é o coeficiênte de variação.\n",
        "print('COEFICIÊNTE DE VARIAÇÃO É:', round(CV,2),'%') # Mostra o resultado''' \n",
        "\n",
        "\n",
        "# QUESTÃO 04\n",
        "'''import statistics\n",
        "Ton = [12, 15, 18, 22, 17, 14, 18, 23, 29, 12]\n",
        "Med = statistics.mean(Ton) # Calcula produção média\n",
        "print('PRODUÇÃO MÉDIA É:', Med,'TONELADAS') # Resposta letra A\n",
        "Mediana = statistics.median(Ton) # Calcula mediana da produção\n",
        "print('A MEDIANA DA PRODUÇÃO É:', Mediana,'TONELADAS') # Resposta letra B\n",
        "Desv_Pad = statistics.stdev(Ton) # Calcula desvio padrão da produção\n",
        "print('O DESVIO PADRÃO DA PRODUÇÃO É:', round(Desv_Pad,2),'TONELADAS') # Resposta letra C'''\n",
        "\n",
        "\n",
        "\n"
      ],
      "execution_count": null,
      "outputs": []
    }
  ]
}